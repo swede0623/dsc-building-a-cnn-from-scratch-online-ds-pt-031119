{
 "cells": [
  {
   "cell_type": "markdown",
   "metadata": {},
   "source": [
    "# Building a CNN from Scratch - Lab\n",
    "\n",
    "## Introduction\n",
    "\n",
    "Now that you have background knowledge regarding how CNNs work and how to implement them via Keras, its time to practice those skills a little more independently in order to build a CNN on your own to solve a image recognition problem. In this lab, you'll practice building an image classifier from start to finish using a CNN.  \n",
    "\n",
    "## Objectives\n",
    "\n",
    "You will be able to:\n",
    "* Transform images into tensors\n",
    "* Build a CNN model for image recognition"
   ]
  },
  {
   "cell_type": "markdown",
   "metadata": {},
   "source": [
    "## Loading the Images\n",
    "\n",
    "The data for this lab concerns classifying lung xray images for pneumonia. The original dataset is from kaggle. We have downsampled this dataset in order to reduce training time for you when you design and fit your model to the data. ⏰ It is anticipated that this process will take approximately 1 hour to run on a standard machine, although times will vary depending on your particular computer and set up. At the end of this lab, you are welcome to try training on the complete dataset and observe the impact on the model's overall accuracy. \n",
    "\n",
    "You can find the initial downsampled dataset in a subdirectory, **chest_xray**, of this repository."
   ]
  },
  {
   "cell_type": "code",
   "execution_count": 1,
   "metadata": {},
   "outputs": [
    {
     "name": "stderr",
     "output_type": "stream",
     "text": [
      "Using TensorFlow backend.\n"
     ]
    }
   ],
   "source": [
    "from keras.preprocessing.image import ImageDataGenerator\n",
    "import datetime\n",
    "\n",
    "original_start = datetime.datetime.now()\n",
    "start = datetime.datetime.now()"
   ]
  },
  {
   "cell_type": "code",
   "execution_count": 2,
   "metadata": {},
   "outputs": [
    {
     "name": "stdout",
     "output_type": "stream",
     "text": [
      "Found 1738 images belonging to 2 classes.\n",
      "Found 4 images belonging to 2 classes.\n"
     ]
    }
   ],
   "source": [
    "\n",
    "train_dir = 'chest_xray_downsampled/train'\n",
    "validation_dir = 'chest_xray_downsampled/val/'\n",
    "test_dir = 'chest_xray_downsampled/test/'\n",
    "\n",
    "# All images will be rescaled by 1./255\n",
    "train_datagen = ImageDataGenerator(rescale=1./255)\n",
    "test_datagen = ImageDataGenerator(rescale=1./255)\n",
    "\n",
    "train_generator = train_datagen.flow_from_directory(\n",
    "        # This is the target directory\n",
    "        train_dir,\n",
    "        # All images will be resized to 150x150\n",
    "        target_size=(150, 150),\n",
    "        batch_size=20,\n",
    "        # Since we use binary_crossentropy loss, we need binary labels\n",
    "        class_mode='binary')\n",
    "\n",
    "validation_generator = test_datagen.flow_from_directory(\n",
    "        validation_dir,\n",
    "        target_size=(150, 150),\n",
    "        batch_size=20,\n",
    "        class_mode='binary')"
   ]
  },
  {
   "cell_type": "markdown",
   "metadata": {},
   "source": [
    "## Designing the Model\n",
    "\n",
    "Now it's time to design your CNN! Remember a few things when doing this: \n",
    "* You should alternate convolutional and pooling layers\n",
    "* You should have later layers have a larger number of parameters in order to detect more abstract patterns\n",
    "* Add some final dense layers to add a classifier to the convolutional base"
   ]
  },
  {
   "cell_type": "code",
   "execution_count": 3,
   "metadata": {},
   "outputs": [],
   "source": [
    "#Your code here; design and compile the model\n",
    "from keras import layers\n",
    "from keras import models\n",
    "\n",
    "model = models.Sequential()\n",
    "model.add(layers.Conv2D(32, (3, 3), activation='relu',\n",
    "                        input_shape=(150, 150, 3)))\n",
    "model.add(layers.MaxPooling2D((2, 2)))\n",
    "model.add(layers.Conv2D(64, (3, 3), activation='relu'))\n",
    "model.add(layers.MaxPooling2D((2, 2)))\n",
    "model.add(layers.Conv2D(128, (3, 3), activation='relu'))\n",
    "model.add(layers.MaxPooling2D((2, 2)))\n",
    "model.add(layers.Conv2D(128, (3, 3), activation='relu'))\n",
    "model.add(layers.MaxPooling2D((2, 2)))\n",
    "model.add(layers.Flatten())\n",
    "model.add(layers.Dense(512, activation='relu'))\n",
    "model.add(layers.Dense(1, activation='sigmoid'))"
   ]
  },
  {
   "cell_type": "code",
   "execution_count": 4,
   "metadata": {},
   "outputs": [],
   "source": [
    "from keras import optimizers\n",
    "\n",
    "model.compile(loss='binary_crossentropy',\n",
    "              optimizer=optimizers.RMSprop(lr=1e-4),\n",
    "              metrics=['acc'])"
   ]
  },
  {
   "cell_type": "markdown",
   "metadata": {},
   "source": [
    "## Training and Evaluating the Model\n",
    "\n",
    "Remember that training deep networks is resource intensive: depending on the size of the data, even a CNN with 3-4 successive convolutional and pooling layers is apt to take a hours to train on a high end laptop. Using 30 epochs and 8 layers (alternating between convolutional and pooling), our model took about 40 minutes to run on a year old macbook pro.\n",
    "\n",
    "\n",
    "If you are concerned with runtime, you may want to set your model to run the training epochs overnight.  \n",
    "\n",
    "**If you are going to run this process overnight, be sure to also script code for the following questions concerning data augmentation. Check your code twice (or more) and then set the notebook to run all, or something equivalent to have them train overnight.**"
   ]
  },
  {
   "cell_type": "code",
   "execution_count": 5,
   "metadata": {},
   "outputs": [
    {
     "name": "stdout",
     "output_type": "stream",
     "text": [
      "Epoch 1/30\n",
      "50/50 [==============================] - 90s 2s/step - loss: 0.5591 - acc: 0.7340 - val_loss: 0.6268 - val_acc: 0.7500\n",
      "Epoch 2/30\n",
      "50/50 [==============================] - 87s 2s/step - loss: 0.4016 - acc: 0.8178 - val_loss: 0.6682 - val_acc: 0.7500\n",
      "Epoch 3/30\n",
      "50/50 [==============================] - 88s 2s/step - loss: 0.3317 - acc: 0.8629 - val_loss: 0.8686 - val_acc: 0.7500\n",
      "Epoch 4/30\n",
      "50/50 [==============================] - 87s 2s/step - loss: 0.2550 - acc: 0.8960 - val_loss: 1.2208 - val_acc: 0.7500\n",
      "Epoch 5/30\n",
      "50/50 [==============================] - 87s 2s/step - loss: 0.2264 - acc: 0.9139 - val_loss: 1.2414 - val_acc: 0.7500\n",
      "Epoch 6/30\n",
      "50/50 [==============================] - 87s 2s/step - loss: 0.1754 - acc: 0.9319 - val_loss: 1.3313 - val_acc: 0.7500\n",
      "Epoch 7/30\n",
      "50/50 [==============================] - 87s 2s/step - loss: 0.1525 - acc: 0.9410 - val_loss: 1.2562 - val_acc: 0.5000\n",
      "Epoch 8/30\n",
      "50/50 [==============================] - 91s 2s/step - loss: 0.1392 - acc: 0.9470 - val_loss: 1.2310 - val_acc: 0.5000\n",
      "Epoch 9/30\n",
      "50/50 [==============================] - 88s 2s/step - loss: 0.1338 - acc: 0.9477 - val_loss: 0.6910 - val_acc: 0.7500\n",
      "Epoch 10/30\n",
      "50/50 [==============================] - 87s 2s/step - loss: 0.1122 - acc: 0.9520 - val_loss: 0.7430 - val_acc: 0.7500\n",
      "Epoch 11/30\n",
      "50/50 [==============================] - 87s 2s/step - loss: 0.0992 - acc: 0.9610 - val_loss: 1.2264 - val_acc: 0.7500\n",
      "Epoch 12/30\n",
      "50/50 [==============================] - 5656s 113s/step - loss: 0.1124 - acc: 0.9580 - val_loss: 1.8996 - val_acc: 0.5000\n",
      "Epoch 13/30\n",
      "50/50 [==============================] - 68s 1s/step - loss: 0.0950 - acc: 0.9628 - val_loss: 1.4794 - val_acc: 0.5000\n",
      "Epoch 14/30\n",
      "50/50 [==============================] - 80s 2s/step - loss: 0.0912 - acc: 0.9650 - val_loss: 1.3705 - val_acc: 0.5000\n",
      "Epoch 15/30\n",
      "50/50 [==============================] - 81s 2s/step - loss: 0.1034 - acc: 0.9640 - val_loss: 1.5875 - val_acc: 0.7500\n",
      "Epoch 16/30\n",
      "50/50 [==============================] - 78s 2s/step - loss: 0.0696 - acc: 0.9719 - val_loss: 1.3577 - val_acc: 0.5000\n",
      "Epoch 17/30\n",
      "50/50 [==============================] - 82s 2s/step - loss: 0.0731 - acc: 0.9790 - val_loss: 1.3265 - val_acc: 0.7500\n",
      "Epoch 18/30\n",
      "50/50 [==============================] - 78s 2s/step - loss: 0.0813 - acc: 0.9660 - val_loss: 1.1846 - val_acc: 0.7500\n",
      "Epoch 19/30\n",
      "50/50 [==============================] - 78s 2s/step - loss: 0.0536 - acc: 0.9819 - val_loss: 0.5053 - val_acc: 0.7500\n",
      "Epoch 20/30\n",
      "50/50 [==============================] - 81s 2s/step - loss: 0.0552 - acc: 0.9810 - val_loss: 1.0416 - val_acc: 0.7500\n",
      "Epoch 21/30\n",
      "50/50 [==============================] - 80s 2s/step - loss: 0.0752 - acc: 0.9690 - val_loss: 0.6570 - val_acc: 0.7500\n",
      "Epoch 22/30\n",
      "50/50 [==============================] - 81s 2s/step - loss: 0.0620 - acc: 0.9780 - val_loss: 0.9312 - val_acc: 0.7500\n",
      "Epoch 23/30\n",
      "50/50 [==============================] - 79s 2s/step - loss: 0.0458 - acc: 0.9819 - val_loss: 0.5862 - val_acc: 0.7500\n",
      "Epoch 24/30\n",
      "50/50 [==============================] - 79s 2s/step - loss: 0.0518 - acc: 0.9790 - val_loss: 3.4469 - val_acc: 0.5000\n",
      "Epoch 25/30\n",
      "50/50 [==============================] - 82s 2s/step - loss: 0.0330 - acc: 0.9890 - val_loss: 1.0608 - val_acc: 0.7500\n",
      "Epoch 26/30\n",
      "50/50 [==============================] - 79s 2s/step - loss: 0.0522 - acc: 0.9770 - val_loss: 2.1662 - val_acc: 0.7500\n",
      "Epoch 27/30\n",
      "50/50 [==============================] - 80s 2s/step - loss: 0.0384 - acc: 0.9880 - val_loss: 1.4235 - val_acc: 0.7500\n",
      "Epoch 28/30\n",
      "50/50 [==============================] - 81s 2s/step - loss: 0.0412 - acc: 0.9860 - val_loss: 1.5432 - val_acc: 0.7500\n",
      "Epoch 29/30\n",
      "50/50 [==============================] - 82s 2s/step - loss: 0.0291 - acc: 0.9880 - val_loss: 1.6130 - val_acc: 0.7500\n",
      "Epoch 30/30\n",
      "50/50 [==============================] - 81s 2s/step - loss: 0.0383 - acc: 0.9870 - val_loss: 0.9790 - val_acc: 0.7500\n"
     ]
    }
   ],
   "source": [
    "#Set the model to train; see warnings above\n",
    "history = model.fit_generator(\n",
    "      train_generator,\n",
    "      steps_per_epoch=50,\n",
    "      epochs=30,\n",
    "      validation_data=validation_generator,\n",
    "      validation_steps=50)"
   ]
  },
  {
   "cell_type": "code",
   "execution_count": 6,
   "metadata": {},
   "outputs": [
    {
     "data": {
      "image/png": "[encoded data removed]",
      "text/plain": [
       "<Figure size 432x288 with 1 Axes>"
      ]
     },
     "metadata": {
      "needs_background": "light"
     },
     "output_type": "display_data"
    },
    {
     "data": {
      "image/png": "[encoded data removed]",
      "text/plain": [
       "<Figure size 432x288 with 1 Axes>"
      ]
     },
     "metadata": {
      "needs_background": "light"
     },
     "output_type": "display_data"
    }
   ],
   "source": [
    "import matplotlib.pyplot as plt\n",
    "%matplotlib inline \n",
    "\n",
    "acc = history.history['acc']\n",
    "val_acc = history.history['val_acc']\n",
    "loss = history.history['loss']\n",
    "val_loss = history.history['val_loss']\n",
    "epochs = range(len(acc))\n",
    "plt.plot(epochs, acc, 'bo', label='Training acc')\n",
    "plt.plot(epochs, val_acc, 'b', label='Validation acc')\n",
    "plt.title('Training and validation accuracy')\n",
    "plt.legend()\n",
    "plt.figure()\n",
    "plt.plot(epochs, loss, 'bo', label='Training loss')\n",
    "plt.plot(epochs, val_loss, 'b', label='Validation loss')\n",
    "plt.title('Training and validation loss')\n",
    "plt.legend()\n",
    "plt.show()"
   ]
  },
  {
   "cell_type": "markdown",
   "metadata": {},
   "source": [
    "## Save the Model"
   ]
  },
  {
   "cell_type": "code",
   "execution_count": 7,
   "metadata": {},
   "outputs": [],
   "source": [
    "#Your code here; save the model for future reference."
   ]
  },
  {
   "cell_type": "markdown",
   "metadata": {},
   "source": [
    "## Data Augmentation\n",
    "\n",
    "Recall that data augmentation is typically always a necessary step when using a small dataset as this one which you have been provided. As such, if you haven't already, implement a data augmentation setup.\n",
    "\n",
    "**Warning: ⏰ This process took nearly 4 hours to run on a relatively new macbook pro. As such, it is recommended that you simply code the setup and compare to the solution branch, or set the process to run overnight if you do choose to actually run the code.**"
   ]
  },
  {
   "cell_type": "code",
   "execution_count": 8,
   "metadata": {},
   "outputs": [],
   "source": [
    "#Add data augmentation to the model setup and set the model to train; \n",
    "#See warnings above if you intend to run this block of code"
   ]
  },
  {
   "cell_type": "markdown",
   "metadata": {},
   "source": [
    "## Final Evaluation\n",
    "\n",
    "Now use the test set to perform a final evaluation on your model of choice."
   ]
  },
  {
   "cell_type": "code",
   "execution_count": 9,
   "metadata": {},
   "outputs": [],
   "source": [
    "# Your code here; perform a final evaluation using the test set.."
   ]
  },
  {
   "cell_type": "markdown",
   "metadata": {},
   "source": [
    "## Extension: Adding Data to the Model\n",
    "\n",
    "As discussed, the current dataset we worked with is a subset of a dataset hosted on Kaggle. Increasing the data that we use to train the model will result in additional performance gains but will also result in longer training times and be more resource intensive.   \n",
    "\n",
    "⏰ It is estimated that training on the full dataset will take approximately 4 hours (and potentially significantly longer) depending on your computer's specifications.\n",
    "\n",
    "In order to test the impact of training on the full dataset, start by downloading the data from kaggle here: https://www.kaggle.com/paultimothymooney/chest-xray-pneumonia.   "
   ]
  },
  {
   "cell_type": "code",
   "execution_count": 10,
   "metadata": {},
   "outputs": [],
   "source": [
    "#Optional extension; Your code here"
   ]
  },
  {
   "cell_type": "markdown",
   "metadata": {},
   "source": [
    "## Summary\n",
    "\n",
    "Well done! In this lab, you practice building your own CNN for image recognition which drastically outperformed our previous attempts using a standard deep learning model alone. In the upcoming sections, we'll continue to investigate further techniques associated with CNNs including visualizing the representations they learn and techniques to further bolster their performance when we have limited training data such as here."
   ]
  }
 ],
 "metadata": {
  "kernelspec": {
   "display_name": "learn-env",
   "language": "python",
   "name": "learn-env"
  },
  "language_info": {
   "codemirror_mode": {
    "name": "ipython",
    "version": 3
   },
   "file_extension": ".py",
   "mimetype": "text/x-python",
   "name": "python",
   "nbconvert_exporter": "python",
   "pygments_lexer": "ipython3",
   "version": "3.6.9"
  },
  "toc": {
   "base_numbering": 1,
   "nav_menu": {},
   "number_sections": true,
   "sideBar": true,
   "skip_h1_title": false,
   "title_cell": "Table of Contents",
   "title_sidebar": "Contents",
   "toc_cell": false,
   "toc_position": {},
   "toc_section_display": true,
   "toc_window_display": false
  }
 },
 "nbformat": 4,
 "nbformat_minor": 2
}
